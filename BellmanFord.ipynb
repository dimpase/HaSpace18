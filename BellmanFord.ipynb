{
 "cells": [
  {
   "cell_type": "markdown",
   "metadata": {},
   "source": [
    "# Bellman-Ford (a-c)-shortest path\n",
    "\n",
    "For a list of arcs $(x,y,\\ell(x,y))$ of a digraph $(V,A,\\ell)$, find the shortest\n",
    "path length from a node $a$ to a node $c$.\n",
    "\n",
    "Here the length of a path $a=a_0-a_1-a_2-...a_k=c$ is the sum\n",
    "$\\sum_{j=0}^{k-1} l(a_j,a_{j+1}).$\n",
    "\n",
    "Define $d_k(y)$ to the be minimal length of a path with at most $k$ arcs, from $a$ to $y$.\n",
    "\n",
    "* start from $d_0(y)=\\infty$ for all $y\\neq a$, and $d_0(a)=0$\n",
    "* recompute $d_{k+1}(y)=\\min\\{d_k(u),\\min_{(w,y)\\in A} d_k(w)+\\ell(w,y)$, for all $k<n$.\n",
    "* return $d_n(c)$.\n"
   ]
  },
  {
   "cell_type": "markdown",
   "metadata": {},
   "source": [
    "# Homework\n",
    "1) implement this in Python. Assume that the arcs are given by\n",
    "triples (v_i,v_j,l), with l an integer, and that there are no negative length cycles in the digraph, and you are given the list of nodes [v_1...v_n] of the graph\n",
    "(You may assume for simplicity that v_j's are integers between 0 and\n",
    "n-1, and n is a part of the input to your function;)\n",
    "\n",
    "2) modify your code to get distances between all pairs of vertices\n"
   ]
  },
  {
   "cell_type": "code",
   "execution_count": 62,
   "metadata": {},
   "outputs": [],
   "source": [
    "def sdist(n,A,a,c):\n",
    "    \"\"\"\n",
    "    computing shotest (a-c)-distance in a digraph\n",
    "    \n",
    "    >>> sdist(2,((1,0,-1),(0,1,10)),1,0)\n",
    "    -1\n",
    "    >>> sdist(2,((1,0,-1),(0,1,10)),0,1)\n",
    "    10\n",
    "\n",
    "    more tests here...\n",
    "    \"\"\"\n",
    "    # your code goes here\n",
    "    \n",
    "import doctest\n",
    "doctest.run_docstring_examples(sdist, globals())"
   ]
  },
  {
   "cell_type": "code",
   "execution_count": null,
   "metadata": {},
   "outputs": [],
   "source": []
  }
 ],
 "metadata": {
  "kernelspec": {
   "display_name": "Python 2",
   "language": "python",
   "name": "python2"
  },
  "language_info": {
   "codemirror_mode": {
    "name": "ipython",
    "version": 2
   },
   "file_extension": ".py",
   "mimetype": "text/x-python",
   "name": "python",
   "nbconvert_exporter": "python",
   "pygments_lexer": "ipython2",
   "version": "2.7.14"
  }
 },
 "nbformat": 4,
 "nbformat_minor": 2
}
