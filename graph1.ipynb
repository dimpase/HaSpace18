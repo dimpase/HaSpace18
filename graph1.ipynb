{
 "cells": [
  {
   "cell_type": "markdown",
   "metadata": {},
   "source": [
    "# Graph creation"
   ]
  },
  {
   "cell_type": "code",
   "execution_count": 60,
   "metadata": {},
   "outputs": [],
   "source": [
    "def graph_from_edges(edges):\n",
    "    \"\"\" undirected graph from a list of edges\n",
    "    \n",
    "    >>> g=graph_from_edges(((1,2),(3,4),(3,1),(1,7))); g\n",
    "    {1: [2, 3, 7], 2: [1], 3: [4, 1], 4: [3], 7: [1]}\n",
    "    \"\"\"\n",
    "    d = {}\n",
    "    for i,j in edges:\n",
    "        try:\n",
    "            d[i].append(j)\n",
    "        except(KeyError):\n",
    "            d[i]=[j]\n",
    "        try:\n",
    "            d[j].append(i)\n",
    "        except(KeyError):\n",
    "            d[j]=[i]\n",
    "    return d        \n",
    "\n",
    "def is_adjacent(d,i,j):\n",
    "    \"\"\" checking whether (i,j) is an edge\n",
    "    \n",
    "    >>> g=graph_from_edges(((1,2),(3,4),(3,1),(1,7)))\n",
    "    >>> is_adjacent(g,1,2)\n",
    "    True\n",
    "    >>> is_adjacent(g,1,4)\n",
    "    False\n",
    "    >>> \n",
    "    \"\"\"\n",
    "    try:\n",
    "        r = j in d[i]\n",
    "    except (KeyError):\n",
    "        return False\n",
    "    return r\n",
    "\n",
    "import doctest\n",
    "doctest.run_docstring_examples(graph_from_edges, globals())\n",
    "doctest.run_docstring_examples(is_adjacent, globals())\n"
   ]
  },
  {
   "cell_type": "markdown",
   "metadata": {},
   "source": [
    "# Shortest paths and connectivity"
   ]
  },
  {
   "cell_type": "code",
   "execution_count": 54,
   "metadata": {},
   "outputs": [],
   "source": [
    "def shortest_d(d,i,j):\n",
    "    \"\"\" computing the shorted distance between i and j in d\n",
    "  \n",
    "    >>> g=graph_from_edges(((1,2),(3,4),(3,1),(1,7)))\n",
    "    >>> shortest_d(g,1,1)\n",
    "    0\n",
    "    >>> shortest_d(g,1,2)\n",
    "    1\n",
    "    >>> shortest_d(g,1,4)\n",
    "    2\n",
    "    >>> shortest_d(g,4,1)\n",
    "    2\n",
    "    >>> shortest_d(g,4,888)\n",
    "    -1\n",
    "    \n",
    "    \"\"\"\n",
    "    que=[]   # the queue for vertices\n",
    "    inque={} # marking processed vertices\n",
    "    for v in d.keys():\n",
    "        inque[v]=-1\n",
    "    que.append(i)\n",
    "    inque[i]=0\n",
    "    head=0\n",
    "    dist = 0\n",
    "    if i==j:\n",
    "        return 0\n",
    "    while head<len(que):\n",
    "        #print(que,inque)\n",
    "        \n",
    "        v = que[head]\n",
    "        dist = inque[v]+1\n",
    "        head += 1\n",
    "        #print (\"v=\",v)\n",
    "        for u in d[v]:       # looping through neighbours of u\n",
    "            #print (\"u=\",u)\n",
    "            if u == j:       # found j at distance dist\n",
    "                return dist\n",
    "            if inque[u] < 0: # not seen before\n",
    "                que.append(u)\n",
    "                inque[u] = dist\n",
    "    return -1\n",
    "\n",
    "def is_connected(g):\n",
    "    \"\"\"\n",
    "    a quick and dirty and slow test for connectivity\n",
    "    \"\"\"\n",
    "    for v in g.keys():\n",
    "        for u in g[v]:\n",
    "            if shortest_d(g,v,u)<0:\n",
    "                return False\n",
    "    return True\n",
    "\n",
    "\n",
    "import doctest\n",
    "doctest.run_docstring_examples(shortest_d, globals())"
   ]
  },
  {
   "cell_type": "markdown",
   "metadata": {},
   "source": [
    "# Homework 1.\n",
    "\n",
    "* Write a function computing the distance matrix of a graph.\n",
    "Do not simply call shortest_d in a loop, this is slow!\n",
    "(hint - look what you get in inque)\n",
    "\n",
    "* change code in shortest_d to make is_connected() efficient"
   ]
  },
  {
   "cell_type": "code",
   "execution_count": 3,
   "metadata": {},
   "outputs": [
    {
     "data": {
      "text/plain": [
       "{1: [2, 3, 7], 2: [1], 3: [4, 1], 4: [3], 7: [1]}"
      ]
     },
     "execution_count": 3,
     "metadata": {},
     "output_type": "execute_result"
    }
   ],
   "source": [
    "g=graph_from_edges(((1,2),(3,4),(3,1),(1,7))); g"
   ]
  },
  {
   "cell_type": "code",
   "execution_count": 21,
   "metadata": {},
   "outputs": [
    {
     "data": {
      "text/plain": [
       "[1, 2, 3, 4, 7]"
      ]
     },
     "execution_count": 21,
     "metadata": {},
     "output_type": "execute_result"
    }
   ],
   "source": [
    "g.keys()"
   ]
  },
  {
   "cell_type": "code",
   "execution_count": 20,
   "metadata": {},
   "outputs": [],
   "source": [
    "import networkx as nx"
   ]
  },
  {
   "cell_type": "code",
   "execution_count": 21,
   "metadata": {},
   "outputs": [],
   "source": [
    "petersen = nx.petersen_graph()"
   ]
  },
  {
   "cell_type": "code",
   "execution_count": 24,
   "metadata": {},
   "outputs": [
    {
     "data": {
      "text/plain": [
       "2"
      ]
     },
     "execution_count": 24,
     "metadata": {},
     "output_type": "execute_result"
    }
   ],
   "source": [
    "gg=graph_from_edges(petersen.edges())\n",
    "shortest_d(gg,1,7)"
   ]
  },
  {
   "cell_type": "markdown",
   "metadata": {},
   "source": [
    "# Homework 2.\n",
    "Install and explore networkx\n",
    "Try calling our functions on graphs produced by networkx generators"
   ]
  },
  {
   "cell_type": "code",
   "execution_count": 25,
   "metadata": {},
   "outputs": [],
   "source": [
    "import matplotlib.pyplot as plt"
   ]
  },
  {
   "cell_type": "code",
   "execution_count": 30,
   "metadata": {},
   "outputs": [
    {
     "data": {
      "image/png": "[encoded data removed]",
      "text/plain": [
       "<matplotlib.figure.Figure at 0x7960c0c1a3d0>"
      ]
     },
     "metadata": {},
     "output_type": "display_data"
    }
   ],
   "source": [
    "nx.draw_networkx(petersen)"
   ]
  },
  {
   "cell_type": "markdown",
   "metadata": {},
   "source": [
    "# Kruskal's algorithm"
   ]
  },
  {
   "cell_type": "code",
   "execution_count": 37,
   "metadata": {},
   "outputs": [],
   "source": [
    "def edges(d):\n",
    "    \"\"\"get the edges of the graph\n",
    "    \n",
    "    >>> g=graph_from_edges(((1,2),(3,4),(3,1),(1,7)))\n",
    "    >>> set(edges(g))==set([(1, 2), (3, 4), (1, 3), (1, 7)])\n",
    "    True\n",
    "    \"\"\"\n",
    "    e =[]\n",
    "    for v in d.keys():\n",
    "        for u in d[v]:\n",
    "            if v<u:\n",
    "                e.append((v,u))\n",
    "    return e\n",
    "\n",
    "import doctest\n",
    "doctest.run_docstring_examples(edges, globals())"
   ]
  },
  {
   "cell_type": "code",
   "execution_count": 58,
   "metadata": {},
   "outputs": [],
   "source": [
    "def kruskal(g):\n",
    "    \"\"\"\n",
    "    a spanning tree of a connected g, \n",
    "    minimal w.r.t. the ordering of edges given by edges()\n",
    "    \n",
    "    >>> import networkx as nx\n",
    "    >>> petersen = nx.petersen_graph()\n",
    "    >>> p=graph_from_edges(petersen.edges())\n",
    "    >>> is_connected(graph_from_edges(kruskal(p)))\n",
    "    True\n",
    "    \"\"\"\n",
    "    \n",
    "    t = []\n",
    "    f = {} # forest\n",
    "    for v in g.keys():\n",
    "        f[v]=v\n",
    "    for u,v in edges(g):  # u<v\n",
    "        if f[u] != f[v]:\n",
    "            m = min(f[u],f[v])\n",
    "            for w in g.keys(): # very inefficient (bad!)\n",
    "                if f[w]==f[u] or f[w]==f[v]:\n",
    "                    f[w] = m\n",
    "            t.append((u,v))\n",
    "    return t\n",
    "\n",
    "import doctest\n",
    "doctest.run_docstring_examples(kruskal, globals())"
   ]
  },
  {
   "cell_type": "markdown",
   "metadata": {},
   "source": [
    "# Homework 3.\n",
    "How can one improve kruskal() to make subtree merging fast\n",
    "(the loop marked \"bad!\" in the code)?"
   ]
  }
 ],
 "metadata": {
  "kernelspec": {
   "display_name": "Python 2",
   "language": "python",
   "name": "python2"
  },
  "language_info": {
   "codemirror_mode": {
    "name": "ipython",
    "version": 2
   },
   "file_extension": ".py",
   "mimetype": "text/x-python",
   "name": "python",
   "nbconvert_exporter": "python",
   "pygments_lexer": "ipython2",
   "version": "2.7.14"
  }
 },
 "nbformat": 4,
 "nbformat_minor": 2
}
