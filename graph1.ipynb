{
 "cells": [
  {
   "cell_type": "markdown",
   "metadata": {},
   "source": [
    "# Graph creation"
   ]
  },
  {
   "cell_type": "code",
   "execution_count": 10,
   "metadata": {},
   "outputs": [
    {
     "name": "stdout",
     "output_type": "stream",
     "text": [
      "**********************************************************************\n",
      "File \"__main__\", line 4, in NoName\n",
      "Failed example:\n",
      "    g=graph_from_edges(((1,2),(3,4),(3,1),(1,8))); g\n",
      "Expected:\n",
      "    {1: [2, 3, 7], 2: [1], 3: [4, 1], 4: [3], 7: [1]}\n",
      "Got:\n",
      "    {8: [1], 1: [2, 3, 8], 2: [1], 3: [4, 1], 4: [3]}\n"
     ]
    }
   ],
   "source": [
    "def graph_from_edges(edges):\n",
    "    \"\"\" undirected graph from a list of edges\n",
    "    \n",
    "    >>> g=graph_from_edges(((1,2),(3,4),(3,1),(1,7))); g\n",
    "    {1: [2, 3, 7], 2: [1], 3: [4, 1], 4: [3], 7: [1]}\n",
    "    \"\"\"\n",
    "    d = {}\n",
    "    for i,j in edges:\n",
    "        try:\n",
    "            d[i].append(j)\n",
    "        except(KeyError):\n",
    "            d[i]=[j]\n",
    "        try:\n",
    "            d[j].append(i)\n",
    "        except(KeyError):\n",
    "            d[j]=[i]\n",
    "    return d        \n",
    "\n",
    "def is_adjacent(d,i,j):\n",
    "    \"\"\" checking whether (i,j) is an edge\n",
    "    \n",
    "    >>> g=graph_from_edges(((1,2),(3,4),(3,1),(1,7)))\n",
    "    >>> is_adjacent(g,1,2)\n",
    "    True\n",
    "    >>> is_adjacent(g,1,4)\n",
    "    False\n",
    "    >>> \n",
    "    \"\"\"\n",
    "    try:\n",
    "        r = j in d[i]\n",
    "    except (KeyError):\n",
    "        return False\n",
    "    return r\n",
    "\n",
    "import doctest\n",
    "doctest.run_docstring_examples(graph_from_edges, globals())\n",
    "doctest.run_docstring_examples(is_adjacent, globals())\n"
   ]
  },
  {
   "cell_type": "code",
   "execution_count": 15,
   "metadata": {},
   "outputs": [],
   "source": [
    "def shortest_d(d,i,j):\n",
    "    \"\"\" computing the shorted distance between i and j in d\n",
    "  \n",
    "    >>> g=graph_from_edges(((1,2),(3,4),(3,1),(1,7)))\n",
    "    >>> shortest_d(g,1,1)\n",
    "    0\n",
    "    >>> shortest_d(g,1,2)\n",
    "    1\n",
    "    >>> shortest_d(g,1,4)\n",
    "    2\n",
    "    >>> shortest_d(g,4,1)\n",
    "    2\n",
    "    >>> shortest_d(g,4,888)\n",
    "    -1\n",
    "    \n",
    "    \"\"\"\n",
    "    que=[]   # the queue for vertices\n",
    "    inque={} # marking processed vertices\n",
    "    for v in d.keys():\n",
    "        inque[v]=-1\n",
    "    que.append(i)\n",
    "    inque[i]=0\n",
    "    head=0\n",
    "    dist = 0\n",
    "    if i==j:\n",
    "        return 0\n",
    "    while head<len(que):\n",
    "        #print(que,inque)\n",
    "        \n",
    "        v = que[head]\n",
    "        dist = inque[v]+1\n",
    "        head += 1\n",
    "        #print (\"v=\",v)\n",
    "        for u in d[v]:       # looping through neighbours of u\n",
    "            #print (\"u=\",u)\n",
    "            if u == j:       # found j at distance dist\n",
    "                return dist\n",
    "            if inque[u] < 0: # not seen before\n",
    "                que.append(u)\n",
    "                inque[u] = dist\n",
    "    return -1\n",
    "\n",
    "import doctest\n",
    "doctest.run_docstring_examples(shortest_d, globals())"
   ]
  },
  {
   "cell_type": "markdown",
   "metadata": {},
   "source": [
    "# Homework: \n",
    "write a function computing the distance matrix of a graph.\n",
    "Do not simply call shortest_d in a loop, this is slow!\n",
    "(hint - look what you get in inque)"
   ]
  },
  {
   "cell_type": "code",
   "execution_count": 3,
   "metadata": {},
   "outputs": [
    {
     "data": {
      "text/plain": [
       "{1: [2, 3, 7], 2: [1], 3: [4, 1], 4: [3], 7: [1]}"
      ]
     },
     "execution_count": 3,
     "metadata": {},
     "output_type": "execute_result"
    }
   ],
   "source": [
    "g=graph_from_edges(((1,2),(3,4),(3,1),(1,7))); g"
   ]
  },
  {
   "cell_type": "code",
   "execution_count": 21,
   "metadata": {},
   "outputs": [
    {
     "data": {
      "text/plain": [
       "[1, 2, 3, 4, 7]"
      ]
     },
     "execution_count": 21,
     "metadata": {},
     "output_type": "execute_result"
    }
   ],
   "source": [
    "g.keys()"
   ]
  },
  {
   "cell_type": "code",
   "execution_count": null,
   "metadata": {},
   "outputs": [],
   "source": []
  }
 ],
 "metadata": {
  "kernelspec": {
   "display_name": "Python 2",
   "language": "python",
   "name": "python2"
  },
  "language_info": {
   "codemirror_mode": {
    "name": "ipython",
    "version": 2
   },
   "file_extension": ".py",
   "mimetype": "text/x-python",
   "name": "python",
   "nbconvert_exporter": "python",
   "pygments_lexer": "ipython2",
   "version": "2.7.14"
  }
 },
 "nbformat": 4,
 "nbformat_minor": 2
}
